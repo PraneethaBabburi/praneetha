{
  "nbformat": 4,
  "nbformat_minor": 0,
  "metadata": {
    "colab": {
      "provenance": []
    },
    "kernelspec": {
      "name": "python3",
      "display_name": "Python 3"
    },
    "language_info": {
      "name": "python"
    }
  },
  "cells": [
    {
      "cell_type": "code",
      "execution_count": null,
      "metadata": {
        "colab": {
          "base_uri": "https://localhost:8080/"
        },
        "id": "_NdaKiJ-xoiB",
        "outputId": "5b17b7bb-7382-498b-955d-5ed340c7b5ee"
      },
      "outputs": [
        {
          "output_type": "stream",
          "name": "stdout",
          "text": [
            "sorted list is  [19, 19, 20, 22, 24, 24, 24, 25, 25, 26]\n",
            "\n",
            "the minimum age is 19\n",
            "the maximum age is 26\n",
            "\n",
            "List after adding min and max to the list  [19, 19, 20, 22, 24, 24, 24, 25, 25, 26, 19, 26]\n",
            "\n",
            "median is 24\n",
            "average is 22.750\n",
            "range of the list ages is:  7\n"
          ]
        }
      ],
      "source": [
        "#Question 1\n",
        "ages = [19, 22, 19, 24, 20, 25, 26, 24, 25, 24]\n",
        "#Sort the list and find the min and max age\n",
        "ages.sort()\n",
        "print(\"sorted list is \",ages)\n",
        "mini=ages[0]\n",
        "maxi=ages[-1]\n",
        "print(\"\\nthe minimum age is %d\" %(mini))\n",
        "print(\"the maximum age is %d\" %(maxi))\n",
        "#Add the min age and the max age again to the list\n",
        "ages.append(mini)\n",
        "ages.append(maxi)\n",
        "print(\"\\nList after adding min and max to the list \", ages)\n",
        "#Find the median age (one middle item or two middle items divided by two)\n",
        "ages.sort()\n",
        "n=len(ages)\n",
        "if (n%2==0):\n",
        "    print(\"\\nmedian is %d\"%((ages[n//2]+ages[(n//2)-1])/2))\n",
        "else:\n",
        "    print(\"\\nmedian is %d\"%(ages[(n//2)]))\n",
        "#Find the average age (sum of all items divided by their number)\n",
        "print(\"average is %.3f\"%(sum(ages)/len(ages)))\n",
        "#Find the range of the ages (max minus min)\n",
        "print(\"range of the list ages is: \", (maxi-mini))\n"
      ]
    },
    {
      "cell_type": "code",
      "source": [
        "#Question 2\n",
        "#Create an empty dictionary called dog\n",
        "dog={}\n",
        "#Add name, color, breed, legs, age to the dog dictionary\n",
        "dog['name']='roro'\n",
        "dog['color']='black'\n",
        "dog['breed']='husky'\n",
        "dog['legs']=4\n",
        "dog['age']=3\n",
        "#Create a student dictionary and add first_name, last_name, gender, age,\n",
        "#marital status, skills, country, city and address as keys for the dictionary\n",
        "student={\n",
        "    'first_name': 'Praneetha',\n",
        "    'last_name': 'Babburi',\n",
        "    'gender':'female',\n",
        "    'age':24,\n",
        "    'marital status': 'single',\n",
        "    'skills':['c', 'python'],\n",
        "    'country': 'India',\n",
        "    'city': 'Ongole',\n",
        "    'address':'Mangamur road'\n",
        "}\n",
        "#Get the length of the student dictionary\n",
        "print('length of student dictionary is ', len(student))\n",
        "\n",
        "#Get the value of skills and check the data type, it should be a list\n",
        "print('skills of the student are', student['skills'])\n",
        "print('data type of skills: ', type(student['skills']))\n",
        "\n",
        "#Modify the skills values by adding one or two skills\n",
        "student['skills'].append('Java')\n",
        "print(student['skills'])\n",
        "\n",
        "#Get the dictionary keys as a list\n",
        "keylist = list(student.keys())\n",
        "print(keylist)\n",
        "\n",
        "#Get the dictionary values as a list\n",
        "valuelist = list(student.values())\n",
        "print(valuelist)"
      ],
      "metadata": {
        "colab": {
          "base_uri": "https://localhost:8080/"
        },
        "id": "DybJ7CKH6v6I",
        "outputId": "943f8a63-bcfc-4853-8fe6-cc57e4587024"
      },
      "execution_count": null,
      "outputs": [
        {
          "output_type": "stream",
          "name": "stdout",
          "text": [
            "length of student dictionary is  9\n",
            "skills of the student are ['c', 'python']\n",
            "data type of skills:  <class 'list'>\n",
            "['c', 'python', 'Java']\n",
            "['first_name', 'last_name', 'gender', 'age', 'marital status', 'skills', 'country', 'city', 'address']\n",
            "['Praneetha', 'Babburi', 'female', 24, 'single', ['c', 'python', 'Java'], 'India', 'Ongole', 'Mangamur road']\n"
          ]
        }
      ]
    },
    {
      "cell_type": "code",
      "source": [
        "#Question 3\n",
        "#Create a tuple containing names of your sisters and your brothers\n",
        "sisters = ('pranavi','ramya', 'harini')\n",
        "brothers = ('anil', 'vamsi')\n",
        "\n",
        "#Join brothers and sisters tuples and assign it to siblings\n",
        "siblings = sisters+brothers\n",
        "\n",
        "#How many siblings do you have?\n",
        "print(\"no.of siblings: \", len(siblings))\n",
        "\n",
        "#Modify the siblings tuple and add the name of your father\n",
        "#and mother and assign it to family_members\n",
        "\n",
        "#we can not directly modify a tuple\n",
        "family_members = siblings + ('sailaja', 'brahmam')\n",
        "print('family_members: ',family_members)"
      ],
      "metadata": {
        "colab": {
          "base_uri": "https://localhost:8080/"
        },
        "id": "QLczBwl1DM5j",
        "outputId": "313981ac-657d-459a-8fb6-f3529bfa3020"
      },
      "execution_count": null,
      "outputs": [
        {
          "output_type": "stream",
          "name": "stdout",
          "text": [
            "no.of siblings:  5\n",
            "family_members:  ('pranavi', 'ramya', 'harini', 'anil', 'vamsi', 'sailaja', 'brahmam')\n"
          ]
        }
      ]
    },
    {
      "cell_type": "code",
      "source": [
        "#Question 4\n",
        "it_companies = {'Facebook', 'Google', 'Microsoft', 'Apple', 'IBM', 'Oracle', 'Amazon'}\n",
        "A = {19, 22, 24, 20, 25, 26}\n",
        "B = {19, 22, 20, 25, 26, 24, 28, 27}\n",
        "age = [22, 19, 24, 25, 26, 24, 25, 24]\n",
        "\n",
        "#Find the length of the set it_companies\n",
        "print('length of the set it_companies is: ', len(it_companies))\n",
        "\n",
        "#Add 'Twitter' to it_companies\n",
        "it_companies.add('Twitter')\n",
        "print(it_companies)\n",
        "\n",
        "#Insert multiple IT companies at once to the set it_companies\n",
        "a={\"TATA\", \"HCL\", 'Meta'}\n",
        "it_companies.update(a)\n",
        "print(it_companies)\n",
        "\n",
        "#Remove one of the companies from the set it_companies\n",
        "it_companies.remove('Facebook')\n",
        "print(it_companies)\n",
        "\n",
        "#What is the difference between remove and discard\n",
        "#it_companies.remove('Infosys') ---> the remove function throws an error if the element is not found in the set unlike discrad()\n",
        "it_companies.discard('Infosys')\n",
        "\n",
        "#Join A and B\n",
        "print('set after joining A and B: ', A|B)\n",
        "\n",
        "#Find A intersection B\n",
        "print('A intersection B is: ', A&B)\n",
        "\n",
        "#Is A subset of B\n",
        "print('Is A subset of B?: ', A.issubset(B))\n",
        "\n",
        "#Are A and B disjoint sets\n",
        "print('Are A and B disjoint?: ', A.isdisjoint(B))\n",
        "\n",
        "#Join A with B and B with A\n",
        "print('result set afer joining A with B: ', A|B)\n",
        "print('result set afer joining B with A: ', B|A)\n",
        "\n",
        "#What is the symmetric difference between A and B\n",
        "print('symmetric differnece between A and B: ', A^B)\n",
        "\n",
        "#Delete the sets completely\n",
        "A.clear()\n",
        "B.clear()\n",
        "\n",
        "#Convert the ages to a set and compare the length of the list and the set.\n",
        "ageset=set(age)\n",
        "print(\"the length of the set is %d while the length of the list is %d\"%(len(ageset),len(age)))"
      ],
      "metadata": {
        "colab": {
          "base_uri": "https://localhost:8080/"
        },
        "id": "rTmns7WbG4xq",
        "outputId": "57aed06f-7c11-4e72-ea32-ca9293585b93"
      },
      "execution_count": null,
      "outputs": [
        {
          "output_type": "stream",
          "name": "stdout",
          "text": [
            "length of the set it_companies is:  7\n",
            "{'Oracle', 'Amazon', 'Twitter', 'Microsoft', 'IBM', 'Apple', 'Google', 'Facebook'}\n",
            "{'Oracle', 'Amazon', 'TATA', 'Meta', 'IBM', 'Google', 'Twitter', 'Microsoft', 'Apple', 'HCL', 'Facebook'}\n",
            "{'Oracle', 'Amazon', 'TATA', 'Meta', 'IBM', 'Google', 'Twitter', 'Microsoft', 'Apple', 'HCL'}\n",
            "set after joining A and B:  {19, 20, 22, 24, 25, 26, 27, 28}\n",
            "A intersection B is:  {19, 20, 22, 24, 25, 26}\n",
            "Is A subset of B?:  True\n",
            "Are A and B disjoint?:  False\n",
            "result set afer joining A with B:  {19, 20, 22, 24, 25, 26, 27, 28}\n",
            "result set afer joining B with A:  {19, 20, 22, 24, 25, 26, 27, 28}\n",
            "symmetric differnece between A and B:  {27, 28}\n",
            "the length of the set is 5 while the length of the list is 8\n"
          ]
        }
      ]
    },
    {
      "cell_type": "code",
      "source": [
        "#Question 5\n",
        "import math\n",
        "\n",
        "#for static input\n",
        "rad=30\n",
        "_area_of_circle_ = math.pi*(rad**2)\n",
        "_circum_of_circle_ = 2*math.pi*rad\n",
        "\n",
        "#for dynamic input\n",
        "userrad= int(input('enter radius of the circle '))\n",
        "print('area of given circle is %.2f '%(math.pi*(userrad**2)))\n",
        "\n"
      ],
      "metadata": {
        "colab": {
          "base_uri": "https://localhost:8080/"
        },
        "id": "IAxh5taAHhWt",
        "outputId": "f72d2962-87e2-48b0-9457-a2f792099328"
      },
      "execution_count": null,
      "outputs": [
        {
          "output_type": "stream",
          "name": "stdout",
          "text": [
            "enter radius of the circle 2\n",
            "area of given circle is 12.57 \n"
          ]
        }
      ]
    },
    {
      "cell_type": "code",
      "source": [
        "#Question 6\n",
        "str = \"I am a teacher and I love to inspire and teach people\"\n",
        "unique=set(str.split())\n",
        "print(unique)\n",
        "print('unique words used in the sentence are: ',len(unique))\n",
        "\n"
      ],
      "metadata": {
        "colab": {
          "base_uri": "https://localhost:8080/"
        },
        "id": "yQ0SIXOPUZfF",
        "outputId": "e32c2cd6-dba9-4a5c-b4bf-bd1b650e8966"
      },
      "execution_count": null,
      "outputs": [
        {
          "output_type": "stream",
          "name": "stdout",
          "text": [
            "{'and', 'a', 'inspire', 'people', 'teach', 'I', 'teacher', 'am', 'to', 'love'}\n",
            "unique words used in the sentence are:  10\n"
          ]
        }
      ]
    },
    {
      "cell_type": "code",
      "source": [
        "#Question 7\n",
        "print('Name\\tAge\\tCountry\\tCity')\n",
        "print('Asabeneh\\t250\\tFinland\\tHelsinki')"
      ],
      "metadata": {
        "colab": {
          "base_uri": "https://localhost:8080/"
        },
        "id": "IVHt9JhcVSyU",
        "outputId": "b18a6dfd-6fad-474b-a273-41da04e3a9f7"
      },
      "execution_count": null,
      "outputs": [
        {
          "output_type": "stream",
          "name": "stdout",
          "text": [
            "Name\tAge\tCountry\tCity\n",
            "Asabeneh\t250\tFinland\tHelsinki\n"
          ]
        }
      ]
    },
    {
      "cell_type": "code",
      "source": [
        "#Question 8\n",
        "radius = 10\n",
        "area = 3.14 * radius ** 2\n",
        "print(\"The area of a circle with radius {} is {} meters square.\".format(radius,int(area)))"
      ],
      "metadata": {
        "colab": {
          "base_uri": "https://localhost:8080/"
        },
        "id": "WHHAA0VjaxRP",
        "outputId": "b0fa3a19-76d1-4e2b-f3d5-b72c4717e3c3"
      },
      "execution_count": null,
      "outputs": [
        {
          "output_type": "stream",
          "name": "stdout",
          "text": [
            "The area of a circle with radius 10 is 314 meters square.\n"
          ]
        }
      ]
    },
    {
      "cell_type": "code",
      "source": [
        "#Question 9\n",
        "N=int(input('enter number of students '))\n",
        "weight_lb=[]\n",
        "for i in range(N):\n",
        "       print('enter weight of {} student in lbs'.format(i+1))\n",
        "       inp=float(input())\n",
        "       weight_lb.append(inp)\n",
        "weight_kg=[]\n",
        "for i in weight_lb:\n",
        "  j=round(i*0.453592,2)\n",
        "  weight_kg.append(float(j))\n",
        "print(weight_kg)"
      ],
      "metadata": {
        "colab": {
          "base_uri": "https://localhost:8080/"
        },
        "id": "E2WDMsSccHhG",
        "outputId": "99c25ed4-fd0a-4b77-b4f1-ef772a09e74c"
      },
      "execution_count": null,
      "outputs": [
        {
          "output_type": "stream",
          "name": "stdout",
          "text": [
            "enter number of students 4\n",
            "enter weight of 1 student in lbs\n",
            "150\n",
            "enter weight of 2 student in lbs\n",
            "155\n",
            "enter weight of 3 student in lbs\n",
            "145\n",
            "enter weight of 4 student in lbs\n",
            "148\n",
            "[68.04, 70.31, 65.77, 67.13]\n"
          ]
        }
      ]
    }
  ]
}